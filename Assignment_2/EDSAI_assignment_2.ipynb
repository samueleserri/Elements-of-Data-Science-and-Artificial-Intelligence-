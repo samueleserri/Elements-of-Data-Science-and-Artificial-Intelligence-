{
 "cells": [
  {
   "cell_type": "markdown",
   "metadata": {
    "id": "rcHxnca8bGHn"
   },
   "source": [
    "### Enter your names:   _________"
   ]
  },
  {
   "cell_type": "markdown",
   "metadata": {
    "id": "wYWNVvWXbRGZ"
   },
   "source": [
    "# Assignment 2\n",
    "Elements of Data Science and Artificial Intelligence\n",
    "<br>\n",
    "Winter Semester 2024/2025\n",
    "<br>\n",
    "Saarland University\n",
    "\n",
    "Prof. Dr. Ingmar Weber\n",
    "<br>\n",
    "Dr. Till Koebe\n",
    "<br>\n",
    "Prof. Dr. Bernt Schiele\n",
    "<br>\n",
    "Prof. Dr. Vera Demberg\n",
    "<br>\n",
    "Prof. Dr. Andrea Volkamer"
   ]
  },
  {
   "cell_type": "markdown",
   "metadata": {
    "id": "33ypQ2w_bonE"
   },
   "source": [
    "In this assignment, we look at examples of how anonymous and aggregate Advertising Data, as well as freely available Satellite and Google Reviews Data, can be used to understand society. We will also look at some common issues when using data from such sources.\n",
    "\n",
    "In case you have questions, feel free to use our [forum](https://edsai.cs.uni-saarland.de/)."
   ]
  },
  {
   "cell_type": "markdown",
   "metadata": {
    "id": "Xb_wl6Ykb30E"
   },
   "source": [
    "**You are not allowed to use third-party libraries or additional Python modules unless otherwise specified.**"
   ]
  },
  {
   "cell_type": "markdown",
   "metadata": {
    "id": "saojkgDCb83R"
   },
   "source": [
    "#### Submission Details\n",
    "\n",
    "Upload your submission to our [CMS](https://cms.sic.saarland/edsai23_24/) in groups of two to three students until **November 17, 2024 17:59**. Late submissions will not be graded! Your submission should only contain this **.ipynb** file."
   ]
  },
  {
   "cell_type": "markdown",
   "metadata": {
    "id": "1F0YTnlMcLOg"
   },
   "source": [
    "### Exercise 1: Data Sparsity (12 Points)\n",
    "\n",
    "For this exercises, we collected so-called \"audience estimates\" from Meta's Marketing API. More specifically, we collected data on how many Facebook users are interested in Computer Science (Look at this [guide](https://worldbank.github.io/connectivity_mapping/facebook_nbs/pipeline.html) to know more). These estimates come with both lower and upper bounds for the \"monthly active users\", or MAUs.\n",
    "\n",
    "The file 'fb_ads_data.csv' contains the estimates of users interested in different fields of study for all the states in Germany, further classified using the user's gender. We will use this data to understand the gender divide in the East and West of Germany for each field of study (according to Meta's/Facebook's inference).\n",
    "\n",
    "Note that Meta and other advertising platforms only support two genders, male and female, for targeting, which does not reflect everyone's reality."
   ]
  },
  {
   "cell_type": "code",
   "execution_count": 1,
   "metadata": {
    "id": "1oAvuuz4PcFj"
   },
   "outputs": [],
   "source": [
    "import pandas as pd"
   ]
  },
  {
   "cell_type": "markdown",
   "metadata": {},
   "source": [
    "### 1 Point\n",
    "* First, load the file containing data for all the states in Germany (fb_ads_data.csv).\n",
    "* Calculate the average audience for each row i.e, ((lower bound+upper bound)/2) and store them as integers."
   ]
  },
  {
   "cell_type": "code",
   "execution_count": 2,
   "metadata": {},
   "outputs": [
    {
     "name": "stdout",
     "output_type": "stream",
     "text": [
      "0      3900.0\n",
      "1      6550.0\n",
      "2      4150.0\n",
      "3      2300.0\n",
      "4     16800.0\n",
      "       ...   \n",
      "91     1300.0\n",
      "92     1000.0\n",
      "93     1000.0\n",
      "94     1000.0\n",
      "95     1000.0\n",
      "Length: 96, dtype: float64\n"
     ]
    }
   ],
   "source": [
    "# Add your code here\n",
    "fb_ads_data = pd.read_csv('fb_ads_data.csv')\n",
    "average = (fb_ads_data['Audience Lower Bound'] + fb_ads_data['Audience Upper Bound'])/2\n",
    "print(average)"
   ]
  },
  {
   "cell_type": "markdown",
   "metadata": {},
   "source": [
    "### 1 Point\n",
    "\n",
    "* Add a new column to the DataFrame named 'Part.' If the 'Region' is in east_states, the value should be 'East'; otherwise, it should be 'West'.\n",
    "* Drop the column 'Region'."
   ]
  },
  {
   "cell_type": "code",
   "execution_count": 3,
   "metadata": {},
   "outputs": [],
   "source": [
    "# Add your code here"
   ]
  },
  {
   "cell_type": "markdown",
   "metadata": {},
   "source": [
    "### 3 Points\n",
    "\n",
    "* Calculate the total audience bounds (all lower, upper and average) for the 'East' and 'West' parts for different interest and gender combinations. (Hint: Use 'groupby')."
   ]
  },
  {
   "cell_type": "code",
   "execution_count": 4,
   "metadata": {},
   "outputs": [],
   "source": [
    "# Add your code here"
   ]
  },
  {
   "cell_type": "markdown",
   "metadata": {},
   "source": [
    "### 3 Points\n",
    "\n",
    "* We now want to calculate the female to male ratio for each interest in both parts of Germany.\n",
    "* To do so, first pivot the table so that the values of gender (female, male) are the new columns.\n",
    "* Now, calculate the 'female to male ratio' (female/male) and add it as a new column."
   ]
  },
  {
   "cell_type": "code",
   "execution_count": 5,
   "metadata": {},
   "outputs": [],
   "source": [
    "# Add your code here"
   ]
  },
  {
   "cell_type": "markdown",
   "metadata": {},
   "source": [
    "### 0 Points\n",
    "\n",
    "* Now go through the csv file again and see if you can spot any issues in the data.\n",
    "* Do you think the rows with both the upper and lower bound as 1000 are accurate?\n",
    "* This happens if there are not enough users interested in a particular topic in that area, leading to Data Sparsity."
   ]
  },
  {
   "cell_type": "markdown",
   "metadata": {},
   "source": [
    "### 2 Points\n",
    "\n",
    "Now repeat all the steps again, after removing the rows with Lower and Upper Bound as 1000."
   ]
  },
  {
   "cell_type": "code",
   "execution_count": 6,
   "metadata": {},
   "outputs": [],
   "source": [
    "# Add your code here"
   ]
  },
  {
   "cell_type": "markdown",
   "metadata": {},
   "source": [
    "### 1 Point\n",
    "\n",
    "* Based on all the experiments discussed above, how would you characterize the gender gap between Eastern and Western regions and across different fields of study? \n",
    "* How do the rows with both values as 1000 impact your analysis? Would they amplify or diminish the actual results?\n"
   ]
  },
  {
   "cell_type": "markdown",
   "metadata": {
    "id": "N7DUdB6xU2WN"
   },
   "source": [
    "### 1 Points\n",
    "\n",
    "Keeping in mind the data collection using Facebook/Instagram, do you see any issues in using this data to understand biases beyond the platforms?\n"
   ]
  },
  {
   "cell_type": "markdown",
   "metadata": {
    "id": "cP_Dpjrkclld"
   },
   "source": [
    "## Exercise 2: Data Disaggregation (8 Points)\n",
    "\n",
    "In this study, we analyze the neighborhoods of Rotenbühl and Burbach in Saarbrücken using two distinct datasets to gain insights into different aspects of development. First, using the [Sentinel 2 Satellite Image Dataset](https://developers.google.com/earth-engine/datasets/catalog/sentinel-2), we collected data on the NIR (Near-Infrared Reflectance) bands (B8 and B8A) for the neighborhoods of Rotenbühl and Burbach in Saarbrücken, for 2023 (both individual and combined). These bands serve as indicators of healthy vegetation, where higher values suggest more abundant vegetation. These indices, along with others, are often used to assess environmental aspects of development in a region.\n",
    "\n",
    "Additionally, we gathered Google reviews from users about establishments in these two areas. Typically, a higher number of reviews is seen as a sign of a more developed area with higher economic activity. \n",
    "\n",
    "We selected Rotenbühl and Burbach for their contrasting demographic profiles: [Rotenbühl is one of the areas with lowest population share in Saarbrücken, while Burbach has the highest](https://www.saarbruecken.de/media/download-649abac77a783). By comparing these areas, we aim to explore how satellite and Google reviews data correlate with socioeconomic factors and population demographics."
   ]
  },
  {
   "cell_type": "code",
   "execution_count": 7,
   "metadata": {
    "id": "ZWy7dQPBcvLp"
   },
   "outputs": [],
   "source": [
    "import pandas as pd\n",
    "import matplotlib.pyplot as plt"
   ]
  },
  {
   "cell_type": "markdown",
   "metadata": {},
   "source": [
    "### 2 Points\n",
    "\n",
    "* First, load the file containing the area wise band values for Rotenbühl and Burbach (mean_band_values.csv).\n",
    "* Create a stacked bar graph that displays the mean B8A values for each month, for both regions.\n",
    "* Calculate the median B8 mean of both the areas for 2023."
   ]
  },
  {
   "cell_type": "code",
   "execution_count": 8,
   "metadata": {},
   "outputs": [
    {
     "data": {
      "image/png": "[encoded data removed]",
      "text/plain": [
       "<Figure size 640x480 with 1 Axes>"
      ]
     },
     "metadata": {},
     "output_type": "display_data"
    },
    {
     "name": "stdout",
     "output_type": "stream",
     "text": [
      "median per area:\n",
      " area\n",
      "Burbach      4991.475142\n",
      "Rotenbuhl    5118.209448\n",
      "Name: B8A_mean, dtype: float64\n"
     ]
    }
   ],
   "source": [
    "# Add your code here\n",
    "mean_band_values = pd.read_csv('mean_band_values.csv')\n",
    "colors = {'Rotenbuhl': 'red', 'Burbach': 'blue'}\n",
    "fig, ax = plt.subplots()\n",
    "plt.bar(mean_band_values['month'], mean_band_values['B8A_mean'], color = mean_band_values['area'].map(colors))\n",
    "plt.xticks(rotation=90)\n",
    "plt.legend(['Rotenbuhl', 'Burbach'])\n",
    "plt.show()\n",
    "median_per_area = mean_band_values['B8A_mean'].groupby(mean_band_values['area']).median()\n",
    "print('median per area:\\n', median_per_area)"
   ]
  },
  {
   "cell_type": "markdown",
   "metadata": {},
   "source": [
    "### 0.5 Point\n",
    "\n",
    "Now load the file containing combined band values (combined_mean_bands_8B.csv) and calculate the median B8 mean for 2023."
   ]
  },
  {
   "cell_type": "code",
   "execution_count": 9,
   "metadata": {},
   "outputs": [],
   "source": [
    "# Add your code here\n",
    "combined_mean_bands_B8 = pd.read_csv('combined_mean_bands_B8.csv')"
   ]
  },
  {
   "cell_type": "markdown",
   "metadata": {},
   "source": [
    "### 1 Point\n",
    "\n",
    "* Based on the indvidual medians, which area has healthier vegetation?\n",
    "* Given that the combined median of both areas is higher than the medians of each area individually, might using this combined median impact any subsequent analysis or lead to potential misunderstandings of your results? "
   ]
  },
  {
   "cell_type": "markdown",
   "metadata": {},
   "source": [
    "Rotenbuhl has a media of 5118.209448 while Burbach has a median of 4991.475142, so Rotenbuhl has healtier vegetation."
   ]
  },
  {
   "cell_type": "markdown",
   "metadata": {},
   "source": [
    "### 0.5 Point\n",
    "\n",
    "We now look at the google reviews left by users in these areas.\n",
    "\n",
    "* Load the file containing the reviews for the two areas (reviews_data.csv). Try using different [delimeters](https://pandas.pydata.org/pandas-docs/stable/reference/api/pandas.read_csv.html) if you run into issues while loading the file.\n",
    "* Calculate the total number of reviews for each area."
   ]
  },
  {
   "cell_type": "code",
   "execution_count": 10,
   "metadata": {},
   "outputs": [
    {
     "data": {
      "text/plain": [
       "area\n",
       "Burbach      11323\n",
       "Rotenbühl     3949\n",
       "Name: review_count, dtype: int64"
      ]
     },
     "execution_count": 10,
     "metadata": {},
     "output_type": "execute_result"
    }
   ],
   "source": [
    "# Add your code here\n",
    "\n",
    "reviews_data = pd.read_csv('reviews_data.csv', delimiter=';')  \n",
    "reviews_data['review_count'].groupby(reviews_data['area']).sum()"
   ]
  },
  {
   "cell_type": "markdown",
   "metadata": {},
   "source": [
    "### 1 Point\n",
    "\n",
    "We now look at the presence of non-German languages in the dataset.\n",
    "* For each area, calculate the percentage of reviews in different languages using 'review_count' and add it as a column (percentage_review_lang)."
   ]
  },
  {
   "cell_type": "code",
   "execution_count": 11,
   "metadata": {},
   "outputs": [
    {
     "name": "stdout",
     "output_type": "stream",
     "text": [
      "area\n",
      "Burbach      0.296123\n",
      "Rotenbühl    0.109395\n",
      "Name: review_count, dtype: float64\n"
     ]
    }
   ],
   "source": [
    "# Add your code here\n",
    "total_non_german_reviews = reviews_data['review_count'][reviews_data['org_review_lang'] != 'german'].groupby(reviews_data['area']).sum()\n",
    "print(total_non_german_reviews/reviews_data['review_count'].groupby(reviews_data['area']).sum())"
   ]
  },
  {
   "cell_type": "markdown",
   "metadata": {},
   "source": [
    "### 1 Point\n",
    "\n",
    "For each area, sort the dataframe in descending order of 'percentage_review_lang'."
   ]
  },
  {
   "cell_type": "code",
   "execution_count": 12,
   "metadata": {},
   "outputs": [],
   "source": [
    "# Add your code here\n"
   ]
  },
  {
   "cell_type": "code",
   "execution_count": 13,
   "metadata": {},
   "outputs": [],
   "source": [
    "# Add your code here"
   ]
  },
  {
   "cell_type": "markdown",
   "metadata": {},
   "source": [
    "### 1 Point\n",
    "\n",
    "Considering that Rotenbühl has fewer reviews and a smaller diversity of languages in those reviews, while Burbach has a higher number of reviews and languages represented, what insights can we draw about the nature and characteristics of these two neighborhoods?"
   ]
  },
  {
   "cell_type": "markdown",
   "metadata": {},
   "source": [
    "### 1 Point\n",
    "\n",
    "* Do you see any issues with using satellite data for such tasks?\n",
    "* Can the indices of vegetation index be used as an indicator for other variables such as wealth of an area or population density? Justify your answer with an example scenario. Give one scenario where it would lead to inaccurate results?\n",
    "* Imagine you are using Google Review data to map different nationalities in Saarbrücken. What challenges would you face?"
   ]
  },
  {
   "cell_type": "markdown",
   "metadata": {},
   "source": [
    "<!-- on data disaggrefatin and sate -->"
   ]
  }
 ],
 "metadata": {
  "colab": {
   "provenance": []
  },
  "kernelspec": {
   "display_name": "base",
   "language": "python",
   "name": "python3"
  },
  "language_info": {
   "codemirror_mode": {
    "name": "ipython",
    "version": 3
   },
   "file_extension": ".py",
   "mimetype": "text/x-python",
   "name": "python",
   "nbconvert_exporter": "python",
   "pygments_lexer": "ipython3",
   "version": "3.12.4"
  }
 },
 "nbformat": 4,
 "nbformat_minor": 0
}
